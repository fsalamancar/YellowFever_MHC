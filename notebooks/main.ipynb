{
 "cells": [
  {
   "cell_type": "code",
   "execution_count": 2,
   "id": "a6fc00e7",
   "metadata": {},
   "outputs": [
    {
     "name": "stdout",
     "output_type": "stream",
     "text": [
      "/Users/fjosesala/Documents/GitHub/YellowFever_MHC/outputs\n"
     ]
    }
   ],
   "source": [
    "#dirigirse a carpeta outputs\n",
    "%cd ../outputs/"
   ]
  },
  {
   "cell_type": "code",
   "execution_count": null,
   "id": "83f72790",
   "metadata": {},
   "outputs": [],
   "source": [
    "../scripts/run_all_masters.sh\n"
   ]
  },
  {
   "cell_type": "code",
   "execution_count": 3,
   "id": "31350964",
   "metadata": {},
   "outputs": [],
   "source": [
    "#crear mapa \n",
    "import pandas as pd\n",
    "from pathlib import Path\n",
    "import re\n",
    "import numpy as np\n",
    "import sys\n",
    "sys.path.append('../src/')\n",
    "import warnings\n",
    "warnings.filterwarnings(\"ignore\")\n",
    "from utils import crear_matriz #funcion que crea la matriz secuencia vs MHC\n",
    "from utils import netMHC2df #funcion pase de netMHC a dataframe\n",
    "from utils import marcar_peptidos #funcion que marca los peptidos de baja/media/alta en la matriz\n",
    "\n"
   ]
  },
  {
   "cell_type": "code",
   "execution_count": 4,
   "id": "9bac721a",
   "metadata": {},
   "outputs": [
    {
     "name": "stdout",
     "output_type": "stream",
     "text": [
      "            A   H   C   I   G   I   T   D   R   D  ...   M   M   F   L   S  \\\n",
      "MHC                                                ...                       \n",
      "DRB1_0101 NaN NaN NaN NaN NaN NaN NaN NaN NaN NaN  ... NaN NaN NaN NaN NaN   \n",
      "DRB1_0102 NaN NaN NaN NaN NaN NaN NaN NaN NaN NaN  ... NaN NaN NaN NaN NaN   \n",
      "DRB1_0103 NaN NaN NaN NaN NaN NaN NaN NaN NaN NaN  ... NaN NaN NaN NaN NaN   \n",
      "DRB1_0104 NaN NaN NaN NaN NaN NaN NaN NaN NaN NaN  ... NaN NaN NaN NaN NaN   \n",
      "DRB1_0301 NaN NaN NaN NaN NaN NaN NaN NaN NaN NaN  ... NaN NaN NaN NaN NaN   \n",
      "\n",
      "            L   G   V   G   A  \n",
      "MHC                            \n",
      "DRB1_0101 NaN NaN NaN NaN NaN  \n",
      "DRB1_0102 NaN NaN NaN NaN NaN  \n",
      "DRB1_0103 NaN NaN NaN NaN NaN  \n",
      "DRB1_0104 NaN NaN NaN NaN NaN  \n",
      "DRB1_0301 NaN NaN NaN NaN NaN  \n",
      "\n",
      "[5 rows x 493 columns]\n"
     ]
    }
   ],
   "source": [
    "# Crea la matriz de mapeo\n",
    "matriz = crear_matriz(\n",
    "    \"../data/fasta/PE_Tolima_SAmI_INS.fasta\",\n",
    "    \"../data/alelos/MHCII_Colombia.txt\"\n",
    ")\n",
    "# ponerle nombre al indice\n",
    "matriz.index.name = 'MHC'\n",
    "\n",
    "\n",
    "\n",
    "print(matriz.head())"
   ]
  },
  {
   "cell_type": "code",
   "execution_count": 5,
   "id": "4678efca",
   "metadata": {},
   "outputs": [
    {
     "name": "stdout",
     "output_type": "stream",
     "text": [
      "   Pos        MHC               Peptide  Of       Core  Core_Rel  Inverted  \\\n",
      "0    1  DRB1_0101  AHCIGITDRDFIEGVHGGTW   8  RDFIEGVHG      0.59         0   \n",
      "1    2  DRB1_0101  HCIGITDRDFIEGVHGGTWV   7  RDFIEGVHG      0.44         0   \n",
      "2    3  DRB1_0101  CIGITDRDFIEGVHGGTWVS   6  RDFIEGVHG      0.33         0   \n",
      "3    4  DRB1_0101  IGITDRDFIEGVHGGTWVSA   8  IEGVHGGTW      0.34         0   \n",
      "4    5  DRB1_0101  GITDRDFIEGVHGGTWVSAT   7  IEGVHGGTW      0.35         0   \n",
      "\n",
      "          Identity  Score_EL  %Rank_EL  Exp_Bind BindLevel  \n",
      "0  Tolima_SAmI_INS  0.000018     92.00       NaN      None  \n",
      "1  Tolima_SAmI_INS  0.000021     91.10       NaN      None  \n",
      "2  Tolima_SAmI_INS  0.000034     87.64       NaN      None  \n",
      "3  Tolima_SAmI_INS  0.000068     80.96       NaN      None  \n",
      "4  Tolima_SAmI_INS  0.000080     79.32       NaN      None  \n",
      "----------------------\n",
      "[None '<= WB' '<=SB']\n"
     ]
    }
   ],
   "source": [
    "#Carga el archivo generado por netMHCIIpan\n",
    "Tolima_MHC_master = netMHC2df(\"../outputs/PE_20all_Tolima_SAmI_master.xls\")\n",
    "print(Tolima_MHC_master.head())\n",
    "print(\"----------------------\")\n",
    "# Ver los niveles unicos de uniones\n",
    "print(Tolima_MHC_master[\"BindLevel\"].unique())"
   ]
  },
  {
   "cell_type": "code",
   "execution_count": 6,
   "id": "b19e5fde",
   "metadata": {},
   "outputs": [
    {
     "name": "stdout",
     "output_type": "stream",
     "text": [
      "     Pos        MHC               Peptide  Of       Core  Core_Rel  Inverted  \\\n",
      "265  266  DRB1_0101  KDTNNSKLYKLHGGHVACRV   7  LYKLHGGHV      0.95         0   \n",
      "266  267  DRB1_0101  DTNNSKLYKLHGGHVACRVK   6  LYKLHGGHV      0.93         0   \n",
      "738  265  DRB1_0102  TKDTNNSKLYKLHGGHVACR   8  LYKLHGGHV      1.00         0   \n",
      "739  266  DRB1_0102  KDTNNSKLYKLHGGHVACRV   7  LYKLHGGHV      1.00         0   \n",
      "740  267  DRB1_0102  DTNNSKLYKLHGGHVACRVK   6  LYKLHGGHV      1.00         0   \n",
      "\n",
      "            Identity  Score_EL  %Rank_EL  Exp_Bind BindLevel  \n",
      "265  Tolima_SAmI_INS  0.266480      4.86       NaN     <= WB  \n",
      "266  Tolima_SAmI_INS  0.259307      4.96       NaN     <= WB  \n",
      "738  Tolima_SAmI_INS  0.500544      3.52       NaN     <= WB  \n",
      "739  Tolima_SAmI_INS  0.520616      3.31       NaN     <= WB  \n",
      "740  Tolima_SAmI_INS  0.514387      3.38       NaN     <= WB  \n"
     ]
    }
   ],
   "source": [
    "# Filtrar las filas que sí tienen un valor en BindLevel distinto de NA/NaN\n",
    "Tolima_MHC_master_filt = Tolima_MHC_master[\n",
    "    Tolima_MHC_master[\"BindLevel\"].notna() &          # no es NaN\n",
    "    (Tolima_MHC_master[\"BindLevel\"].str.strip() != \"NA\")  # ni el string \"NA\"\n",
    "]\n",
    "\n",
    "print(Tolima_MHC_master_filt.head())"
   ]
  },
  {
   "cell_type": "code",
   "execution_count": null,
   "id": "87c4c2f4",
   "metadata": {},
   "outputs": [
    {
     "name": "stdout",
     "output_type": "stream",
     "text": [
      "            A   H   C   I   G   I   T   D   R   D  ...   M   M   F   L   S  \\\n",
      "MHC                                                ...                       \n",
      "DRB1_0101 NaN NaN NaN NaN NaN NaN NaN NaN NaN NaN  ... NaN NaN NaN NaN NaN   \n",
      "DRB1_0102 NaN NaN NaN NaN NaN NaN NaN NaN NaN NaN  ... NaN NaN NaN NaN NaN   \n",
      "DRB1_0103 NaN NaN NaN NaN NaN NaN NaN NaN NaN NaN  ... NaN NaN NaN NaN NaN   \n",
      "DRB1_0104 NaN NaN NaN NaN NaN NaN NaN NaN NaN NaN  ... NaN NaN NaN NaN NaN   \n",
      "DRB1_0301 NaN NaN NaN NaN NaN NaN NaN NaN NaN NaN  ... NaN NaN NaN NaN NaN   \n",
      "\n",
      "            L   G   V   G   A  \n",
      "MHC                            \n",
      "DRB1_0101 NaN NaN NaN NaN NaN  \n",
      "DRB1_0102 NaN NaN NaN NaN NaN  \n",
      "DRB1_0103 NaN NaN NaN NaN NaN  \n",
      "DRB1_0104 NaN NaN NaN NaN NaN  \n",
      "DRB1_0301 NaN NaN NaN NaN NaN  \n",
      "\n",
      "[5 rows x 493 columns]\n"
     ]
    }
   ],
   "source": [
    "# Genera la matriz final marcando los péptidos de baja/alta afinidad\n",
    "matriz_final = marcar_peptidos(matriz, Tolima_MHC_master_filt)\n",
    "print(matriz_final.head())\n",
    "\n"
   ]
  },
  {
   "cell_type": "code",
   "execution_count": 31,
   "id": "8a0442b2",
   "metadata": {},
   "outputs": [],
   "source": [
    "#exportar la matriz a un archivo csv\n",
    "matriz_final.to_csv(\"Tolima_MHC_master_marcado.csv\")"
   ]
  },
  {
   "cell_type": "code",
   "execution_count": null,
   "id": "b9b38e22",
   "metadata": {},
   "outputs": [],
   "source": [
    "#funcion Master, filtrar por los que tienen valores en Bindlevel,\n",
    "# a ese df, seleccionar la columna core y la columna MHC coger la secuencia y buscarla en las columnas de la matriz de mapeo\n",
    "#'<= WB' = casilla verde\n",
    "#'<=SB' = casilla roja\n",
    "\n",
    "# si la encuentra, registrar un 1 en la posicion correspondiente,del valor de la columna MHC correspondiente si no dejar el na\n",
    "#hacerlo para todas.\n",
    "#exportar el df"
   ]
  },
  {
   "cell_type": "code",
   "execution_count": 2,
   "id": "3a172f42",
   "metadata": {},
   "outputs": [],
   "source": [
    "!pip freeze > ../requirements.txt"
   ]
  },
  {
   "cell_type": "code",
   "execution_count": null,
   "id": "2606e3e6",
   "metadata": {},
   "outputs": [],
   "source": [
    "#master function\n",
    "\n",
    "#!/usr/bin/env python3\n",
    "import pandas as pd\n",
    "import warnings\n",
    "import sys\n",
    "from pathlib import Path\n",
    "\n",
    "# Evitar warnings innecesarios\n",
    "warnings.filterwarnings(\"ignore\")\n",
    "\n",
    "# Importa las funciones personalizadas\n",
    "sys.path.append('../src/')\n",
    "from utils import crear_matriz, netMHC2df, marcar_peptidos\n",
    "\n",
    "\n",
    "def generar_matriz_marcada(\n",
    "    fasta_path: str,\n",
    "    alelos_path: str,\n",
    "    netmhc_path: str,\n",
    "    salida_csv: str\n",
    ") -> pd.DataFrame:\n",
    "    \"\"\"\n",
    "    Crea una matriz secuencia vs MHC, filtra resultados de netMHCIIpan\n",
    "    y marca péptidos de alta/baja afinidad.\n",
    "\n",
    "    Parámetros\n",
    "    ----------\n",
    "    fasta_path : str\n",
    "        Ruta al archivo FASTA con las secuencias.\n",
    "    alelos_path : str\n",
    "        Ruta al archivo de alelos MHCII.\n",
    "    netmhc_path : str\n",
    "        Ruta al archivo XLS de salida de netMHCIIpan.\n",
    "    salida_csv : str\n",
    "        Ruta donde guardar el CSV final.\n",
    "\n",
    "    Retorna\n",
    "    -------\n",
    "    pd.DataFrame\n",
    "        Matriz final con péptidos marcados.\n",
    "    \"\"\"\n",
    "    matriz = crear_matriz(fasta_path, alelos_path)\n",
    "    matriz.index.name = 'MHC'\n",
    "\n",
    "    mhc_master = netMHC2df(netmhc_path)\n",
    "\n",
    "    mhc_filt = mhc_master[\n",
    "        mhc_master[\"BindLevel\"].notna() &\n",
    "        (mhc_master[\"BindLevel\"].str.strip() != \"NA\")\n",
    "    ]\n",
    "\n",
    "    matriz_final = marcar_peptidos(matriz, mhc_filt)\n",
    "    matriz_final.to_csv(salida_csv, index=True)\n",
    "    return matriz_final\n",
    "\n",
    "\n",
    "if __name__ == \"__main__\":\n",
    "    # === Inputs interactivos para el usuario ===\n",
    "    fasta_path  = input(\"Ruta al archivo FASTA: \").strip()\n",
    "    alelos_path = input(\"Ruta al archivo de alelos: \").strip()\n",
    "    netmhc_path = input(\"Ruta al archivo XLS de netMHCIIpan: \").strip()\n",
    "    salida_csv  = input(\"Ruta para guardar el CSV final: \").strip()\n",
    "\n",
    "    # Ejecuta la función principal\n",
    "    resultado = generar_matriz_marcada(\n",
    "        fasta_path=fasta_path,\n",
    "        alelos_path=alelos_path,\n",
    "        netmhc_path=netmhc_path,\n",
    "        salida_csv=salida_csv\n",
    "    )\n",
    "\n",
    "    print(f\"\\nProceso finalizado. Matriz guardada en: {salida_csv}\")\n",
    "\n",
    "    \n",
    "\n"
   ]
  },
  {
   "cell_type": "code",
   "execution_count": null,
   "id": "e5aa6689",
   "metadata": {},
   "outputs": [],
   "source": []
  }
 ],
 "metadata": {
  "kernelspec": {
   "display_name": ".venv",
   "language": "python",
   "name": "python3"
  },
  "language_info": {
   "codemirror_mode": {
    "name": "ipython",
    "version": 3
   },
   "file_extension": ".py",
   "mimetype": "text/x-python",
   "name": "python",
   "nbconvert_exporter": "python",
   "pygments_lexer": "ipython3",
   "version": "3.11.13"
  }
 },
 "nbformat": 4,
 "nbformat_minor": 5
}
