{
 "cells": [
  {
   "cell_type": "code",
   "execution_count": 3,
   "id": "a6fc00e7",
   "metadata": {},
   "outputs": [
    {
     "name": "stdout",
     "output_type": "stream",
     "text": [
      "/Users/fjosesala/Documents/GitHub/YellowFever_MHC/outputs\n"
     ]
    }
   ],
   "source": [
    "#dirigirse a carpeta outputs\n",
    "%cd ../outputs/"
   ]
  },
  {
   "cell_type": "code",
   "execution_count": null,
   "id": "83f72790",
   "metadata": {},
   "outputs": [],
   "source": [
    "../scripts/run_all_masters.sh\n"
   ]
  },
  {
   "cell_type": "code",
   "execution_count": 1,
   "id": "31350964",
   "metadata": {},
   "outputs": [],
   "source": [
    "#crear mapa \n",
    "import pandas as pd\n",
    "from pathlib import Path\n",
    "import re\n",
    "import numpy as np\n",
    "import sys\n",
    "sys.path.append('../src')\n",
    "from utils import crear_matriz\n",
    "\n"
   ]
  },
  {
   "cell_type": "code",
   "execution_count": 2,
   "id": "9bac721a",
   "metadata": {},
   "outputs": [
    {
     "name": "stdout",
     "output_type": "stream",
     "text": [
      "            Q   G   C   A   I   N   F   G   K   R  ...   V   R   S   W   V  \\\n",
      "DRB1_0101 NaN NaN NaN NaN NaN NaN NaN NaN NaN NaN  ... NaN NaN NaN NaN NaN   \n",
      "DRB1_0102 NaN NaN NaN NaN NaN NaN NaN NaN NaN NaN  ... NaN NaN NaN NaN NaN   \n",
      "DRB1_0103 NaN NaN NaN NaN NaN NaN NaN NaN NaN NaN  ... NaN NaN NaN NaN NaN   \n",
      "DRB1_0104 NaN NaN NaN NaN NaN NaN NaN NaN NaN NaN  ... NaN NaN NaN NaN NaN   \n",
      "DRB1_0301 NaN NaN NaN NaN NaN NaN NaN NaN NaN NaN  ... NaN NaN NaN NaN NaN   \n",
      "...        ..  ..  ..  ..  ..  ..  ..  ..  ..  ..  ...  ..  ..  ..  ..  ..   \n",
      "DRB1_1601 NaN NaN NaN NaN NaN NaN NaN NaN NaN NaN  ... NaN NaN NaN NaN NaN   \n",
      "DRB1_1602 NaN NaN NaN NaN NaN NaN NaN NaN NaN NaN  ... NaN NaN NaN NaN NaN   \n",
      "DRB1_1603 NaN NaN NaN NaN NaN NaN NaN NaN NaN NaN  ... NaN NaN NaN NaN NaN   \n",
      "DRB1_1604 NaN NaN NaN NaN NaN NaN NaN NaN NaN NaN  ... NaN NaN NaN NaN NaN   \n",
      "DRB1_1605 NaN NaN NaN NaN NaN NaN NaN NaN NaN NaN  ... NaN NaN NaN NaN NaN   \n",
      "\n",
      "            T   A   G   E   I  \n",
      "DRB1_0101 NaN NaN NaN NaN NaN  \n",
      "DRB1_0102 NaN NaN NaN NaN NaN  \n",
      "DRB1_0103 NaN NaN NaN NaN NaN  \n",
      "DRB1_0104 NaN NaN NaN NaN NaN  \n",
      "DRB1_0301 NaN NaN NaN NaN NaN  \n",
      "...        ..  ..  ..  ..  ..  \n",
      "DRB1_1601 NaN NaN NaN NaN NaN  \n",
      "DRB1_1602 NaN NaN NaN NaN NaN  \n",
      "DRB1_1603 NaN NaN NaN NaN NaN  \n",
      "DRB1_1604 NaN NaN NaN NaN NaN  \n",
      "DRB1_1605 NaN NaN NaN NaN NaN  \n",
      "\n",
      "[108 rows x 354 columns]\n"
     ]
    }
   ],
   "source": [
    "matriz = crear_matriz(\n",
    "    \"../data/fasta/NS1_Brasil_PV454340_SAmI.fasta\",\n",
    "    \"../data/alelos/MHCII_Colombia.txt\"\n",
    ")\n",
    "print(matriz)\n"
   ]
  }
 ],
 "metadata": {
  "kernelspec": {
   "display_name": ".venv",
   "language": "python",
   "name": "python3"
  },
  "language_info": {
   "codemirror_mode": {
    "name": "ipython",
    "version": 3
   },
   "file_extension": ".py",
   "mimetype": "text/x-python",
   "name": "python",
   "nbconvert_exporter": "python",
   "pygments_lexer": "ipython3",
   "version": "3.11.13"
  }
 },
 "nbformat": 4,
 "nbformat_minor": 5
}
