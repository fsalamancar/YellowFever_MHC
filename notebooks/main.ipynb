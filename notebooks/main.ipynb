{
 "cells": [
  {
   "cell_type": "code",
   "execution_count": 3,
   "id": "a6fc00e7",
   "metadata": {},
   "outputs": [
    {
     "name": "stdout",
     "output_type": "stream",
     "text": [
      "/Users/fjosesala/Documents/GitHub/YellowFever_MHC/outputs\n"
     ]
    }
   ],
   "source": [
    "#dirigirse a carpeta outputs\n",
    "%cd ../outputs/"
   ]
  },
  {
   "cell_type": "code",
   "execution_count": null,
   "id": "83f72790",
   "metadata": {},
   "outputs": [],
   "source": [
    "../scripts/run_all_masters.sh\n"
   ]
  }
 ],
 "metadata": {
  "kernelspec": {
   "display_name": ".venv",
   "language": "python",
   "name": "python3"
  },
  "language_info": {
   "codemirror_mode": {
    "name": "ipython",
    "version": 3
   },
   "file_extension": ".py",
   "mimetype": "text/x-python",
   "name": "python",
   "nbconvert_exporter": "python",
   "pygments_lexer": "ipython3",
   "version": "3.11.13"
  }
 },
 "nbformat": 4,
 "nbformat_minor": 5
}
