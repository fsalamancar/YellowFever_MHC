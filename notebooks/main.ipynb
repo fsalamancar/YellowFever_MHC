{
 "cells": [
  {
   "cell_type": "code",
   "execution_count": 3,
   "id": "a6fc00e7",
   "metadata": {},
   "outputs": [
    {
     "name": "stdout",
     "output_type": "stream",
     "text": [
      "/Users/fjosesala/Documents/GitHub/YellowFever_MHC/outputs\n"
     ]
    }
   ],
   "source": [
    "#dirigirse a carpeta outputs\n",
    "%cd ../outputs/"
   ]
  },
  {
   "cell_type": "code",
   "execution_count": null,
   "id": "83f72790",
   "metadata": {},
   "outputs": [],
   "source": [
    "../scripts/run_all_masters.sh\n"
   ]
  },
  {
   "cell_type": "code",
   "execution_count": 1,
   "id": "31350964",
   "metadata": {},
   "outputs": [],
   "source": [
    "#crear mapa \n",
    "import pandas as pd\n",
    "from pathlib import Path\n",
    "import re\n",
    "import numpy as np\n",
    "import sys\n",
    "sys.path.append('../src')\n",
    "from utils import crear_matriz\n",
    "from utils import netMHC2df\n",
    "\n"
   ]
  },
  {
   "cell_type": "code",
   "execution_count": 10,
   "id": "9bac721a",
   "metadata": {},
   "outputs": [
    {
     "name": "stdout",
     "output_type": "stream",
     "text": [
      "            A   H   C   I   G   I   T   D   R   D  ...   M   M   F   L   S  \\\n",
      "DRB1_0101 NaN NaN NaN NaN NaN NaN NaN NaN NaN NaN  ... NaN NaN NaN NaN NaN   \n",
      "DRB1_0102 NaN NaN NaN NaN NaN NaN NaN NaN NaN NaN  ... NaN NaN NaN NaN NaN   \n",
      "DRB1_0103 NaN NaN NaN NaN NaN NaN NaN NaN NaN NaN  ... NaN NaN NaN NaN NaN   \n",
      "DRB1_0104 NaN NaN NaN NaN NaN NaN NaN NaN NaN NaN  ... NaN NaN NaN NaN NaN   \n",
      "DRB1_0301 NaN NaN NaN NaN NaN NaN NaN NaN NaN NaN  ... NaN NaN NaN NaN NaN   \n",
      "...        ..  ..  ..  ..  ..  ..  ..  ..  ..  ..  ...  ..  ..  ..  ..  ..   \n",
      "DRB1_1601 NaN NaN NaN NaN NaN NaN NaN NaN NaN NaN  ... NaN NaN NaN NaN NaN   \n",
      "DRB1_1602 NaN NaN NaN NaN NaN NaN NaN NaN NaN NaN  ... NaN NaN NaN NaN NaN   \n",
      "DRB1_1603 NaN NaN NaN NaN NaN NaN NaN NaN NaN NaN  ... NaN NaN NaN NaN NaN   \n",
      "DRB1_1604 NaN NaN NaN NaN NaN NaN NaN NaN NaN NaN  ... NaN NaN NaN NaN NaN   \n",
      "DRB1_1605 NaN NaN NaN NaN NaN NaN NaN NaN NaN NaN  ... NaN NaN NaN NaN NaN   \n",
      "\n",
      "            L   G   V   G   A  \n",
      "DRB1_0101 NaN NaN NaN NaN NaN  \n",
      "DRB1_0102 NaN NaN NaN NaN NaN  \n",
      "DRB1_0103 NaN NaN NaN NaN NaN  \n",
      "DRB1_0104 NaN NaN NaN NaN NaN  \n",
      "DRB1_0301 NaN NaN NaN NaN NaN  \n",
      "...        ..  ..  ..  ..  ..  \n",
      "DRB1_1601 NaN NaN NaN NaN NaN  \n",
      "DRB1_1602 NaN NaN NaN NaN NaN  \n",
      "DRB1_1603 NaN NaN NaN NaN NaN  \n",
      "DRB1_1604 NaN NaN NaN NaN NaN  \n",
      "DRB1_1605 NaN NaN NaN NaN NaN  \n",
      "\n",
      "[108 rows x 493 columns]\n"
     ]
    }
   ],
   "source": [
    "#Crea la matriz de mapeo\n",
    "\n",
    "matriz = crear_matriz(\n",
    "    \"../data/fasta/PE_Tolima_SAmI_INS.fasta\",\n",
    "    \"../data/alelos/MHCII_Colombia.txt\"\n",
    ")\n",
    "print(matriz)\n",
    "\n"
   ]
  },
  {
   "cell_type": "code",
   "execution_count": 11,
   "id": "4678efca",
   "metadata": {},
   "outputs": [
    {
     "name": "stdout",
     "output_type": "stream",
     "text": [
      "       Pos        MHC          Peptide  Of       Core  Core_Rel  Inverted  \\\n",
      "0        1  DRB1_0101  AHCIGITDRDFIEGV   3  IGITDRDFI      0.54         0   \n",
      "1        2  DRB1_0101  HCIGITDRDFIEGVH   2  IGITDRDFI      0.25         0   \n",
      "2        3  DRB1_0101  CIGITDRDFIEGVHG   6  RDFIEGVHG      0.43         0   \n",
      "3        4  DRB1_0101  IGITDRDFIEGVHGG   5  RDFIEGVHG      0.66         0   \n",
      "4        5  DRB1_0101  GITDRDFIEGVHGGT   4  RDFIEGVHG      0.74         0   \n",
      "...    ...        ...              ...  ..        ...       ...       ...   \n",
      "51248  475  DRB1_1604  MSMILVGVIMMFLSL   2  MILVGVIMM      0.61         0   \n",
      "51249  476  DRB1_1604  SMILVGVIMMFLSLG   3  LVGVIMMFL      0.59         0   \n",
      "51250  477  DRB1_1604  MILVGVIMMFLSLGV   6  IMMFLSLGV      0.76         0   \n",
      "51251  478  DRB1_1604  ILVGVIMMFLSLGVG   5  IMMFLSLGV      0.97         0   \n",
      "51252  479  DRB1_1604  LVGVIMMFLSLGVGA   4  IMMFLSLGV      0.97         0   \n",
      "\n",
      "              Identity  Score_EL  %Rank_EL  Exp_Bind BindLevel  \n",
      "0      Tolima_SAmI_INS  0.000036     87.23       NaN      None  \n",
      "1      Tolima_SAmI_INS  0.000013     94.03       NaN      None  \n",
      "2      Tolima_SAmI_INS  0.000048     84.40       NaN      None  \n",
      "3      Tolima_SAmI_INS  0.000202     68.50       NaN      None  \n",
      "4      Tolima_SAmI_INS  0.000401     59.60       NaN      None  \n",
      "...                ...       ...       ...       ...       ...  \n",
      "51248  Tolima_SAmI_INS  0.000012     98.60       NaN      None  \n",
      "51249  Tolima_SAmI_INS  0.000009     98.97       NaN      None  \n",
      "51250  Tolima_SAmI_INS  0.000834     69.24       NaN      None  \n",
      "51251  Tolima_SAmI_INS  0.004334     46.90       NaN      None  \n",
      "51252  Tolima_SAmI_INS  0.016019     29.54       NaN      None  \n",
      "\n",
      "[51253 rows x 12 columns]\n"
     ]
    }
   ],
   "source": [
    "#Carga el archivo generado por netMHCIIpan\n",
    "Tolima_MHC_master = netMHC2df(\"../outputs/PE_Tolima_SAmI_master.xls\")\n",
    "print(Tolima_MHC_master)"
   ]
  },
  {
   "cell_type": "code",
   "execution_count": 12,
   "id": "86b72b13",
   "metadata": {},
   "outputs": [
    {
     "name": "stdout",
     "output_type": "stream",
     "text": [
      "[None '<= WB' '<=SB']\n"
     ]
    }
   ],
   "source": [
    "print(Tolima_MHC_master[\"BindLevel\"].unique())"
   ]
  },
  {
   "cell_type": "code",
   "execution_count": null,
   "id": "b9b38e22",
   "metadata": {},
   "outputs": [],
   "source": [
    "#funcion Master, filtrar por los que tienen valores en Bindlevel,\n",
    "# a ese df, seleccionar la columna peptide,y la columna MHC coger la secuencia y buscarla en las columnas de la matriz de mapeo\n",
    "#'<= WB' = casilla verde\n",
    "#'<=SB' = casilla roja\n",
    "\n",
    "# si la encuentra, registrar un 1 en la posicion correspondiente,del valor de la columna MHC correspondiente si no dejar el na\n",
    "#hacerlo para todas.\n",
    "#exportar el df"
   ]
  },
  {
   "cell_type": "code",
   "execution_count": 2,
   "id": "3a172f42",
   "metadata": {},
   "outputs": [],
   "source": [
    "!pip freeze > ../requirements.txt"
   ]
  }
 ],
 "metadata": {
  "kernelspec": {
   "display_name": ".venv",
   "language": "python",
   "name": "python3"
  },
  "language_info": {
   "codemirror_mode": {
    "name": "ipython",
    "version": 3
   },
   "file_extension": ".py",
   "mimetype": "text/x-python",
   "name": "python",
   "nbconvert_exporter": "python",
   "pygments_lexer": "ipython3",
   "version": "3.11.13"
  }
 },
 "nbformat": 4,
 "nbformat_minor": 5
}
